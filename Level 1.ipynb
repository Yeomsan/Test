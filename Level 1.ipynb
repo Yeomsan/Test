{
 "cells": [
  {
   "cell_type": "code",
   "execution_count": 1,
   "id": "9308ffa4",
   "metadata": {},
   "outputs": [
    {
     "name": "stdout",
     "output_type": "stream",
     "text": [
      "Hello World\n"
     ]
    }
   ],
   "source": [
    "print(\"Hello World!\")"
   ]
  },
  {
   "cell_type": "code",
   "execution_count": 2,
   "id": "e8098ebc",
   "metadata": {},
   "outputs": [
    {
     "name": "stdout",
     "output_type": "stream",
     "text": [
      "A를 입력하세요2\n",
      "B를 입력하세요6\n",
      "8\n"
     ]
    }
   ],
   "source": [
    "A = int(input(\"A를 입력하세요\"))\n",
    "B = int(input(\"B를 입력하세요\"))\n",
    "print(A + B)"
   ]
  },
  {
   "cell_type": "code",
   "execution_count": 3,
   "id": "49618ec7",
   "metadata": {},
   "outputs": [
    {
     "name": "stdout",
     "output_type": "stream",
     "text": [
      "A를 입력하세요6\n",
      "B를 입력하세요4\n",
      "2\n"
     ]
    }
   ],
   "source": [
    "A = int(input(\"A를 입력하세요\"))\n",
    "B = int(input(\"B를 입력하세요\"))\n",
    "print(A - B)"
   ]
  },
  {
   "cell_type": "code",
   "execution_count": 4,
   "id": "29120045",
   "metadata": {},
   "outputs": [
    {
     "name": "stdout",
     "output_type": "stream",
     "text": [
      "A를 입력하세요5\n",
      "B를 입력하세요7\n",
      "35\n"
     ]
    }
   ],
   "source": [
    "A = int(input(\"A를 입력하세요\"))\n",
    "B = int(input(\"B를 입력하세요\"))\n",
    "print(A * B)"
   ]
  },
  {
   "cell_type": "code",
   "execution_count": 5,
   "id": "07ad84b7",
   "metadata": {},
   "outputs": [
    {
     "name": "stdout",
     "output_type": "stream",
     "text": [
      "A를 입력하세요3\n",
      "B를 입력하세요2\n",
      "1.5\n"
     ]
    }
   ],
   "source": [
    "A = int(input(\"A를 입력하세요\"))\n",
    "B = int(input(\"B를 입력하세요\"))\n",
    "print(A / B)"
   ]
  },
  {
   "cell_type": "code",
   "execution_count": 7,
   "id": "11347e5c",
   "metadata": {},
   "outputs": [
    {
     "name": "stdout",
     "output_type": "stream",
     "text": [
      "ID를 입력하세요dhgdj\n",
      "dhgdj??!\n"
     ]
    }
   ],
   "source": [
    "ID = input(\"ID를 입력하세요\")\n",
    "surprised = \"??!\"\n",
    "print(ID + surprised)"
   ]
  },
  {
   "cell_type": "code",
   "execution_count": 9,
   "id": "f7ca0c57",
   "metadata": {},
   "outputs": [
    {
     "name": "stdout",
     "output_type": "stream",
     "text": [
      "불기 연도를 입력하세요2541\n",
      "1998\n"
     ]
    }
   ],
   "source": [
    "Y = int(input(\"불기 연도를 입력하세요\"))\n",
    "print(Y - 543)"
   ]
  },
  {
   "cell_type": "code",
   "execution_count": 13,
   "id": "f6ae9991",
   "metadata": {},
   "outputs": [
    {
     "name": "stdout",
     "output_type": "stream",
     "text": [
      "5 8 4\n",
      "1\n",
      "1\n",
      "0\n",
      "0\n"
     ]
    }
   ],
   "source": [
    "tn = input()\n",
    "tn_sp = tn.split(\" \")\n",
    "A = int(tn_sp[0])\n",
    "B = int(tn_sp[1])\n",
    "C = int(tn_sp[2])\n",
    "print((A+B)%C, ((A%C)+(B%C))%C, (A*B)%C, ((A%C)*(B%C))%C, sep = \"\\n\")"
   ]
  },
  {
   "cell_type": "code",
   "execution_count": 16,
   "id": "482ed585",
   "metadata": {},
   "outputs": [
    {
     "name": "stdout",
     "output_type": "stream",
     "text": [
      "472\n",
      "385\n",
      "2360\n",
      "3776\n",
      "1416\n",
      "181720\n"
     ]
    }
   ],
   "source": [
    "A = int(input())\n",
    "B = int(input())\n",
    "B_1 = (B%100)%10\n",
    "B_10 = (B%100)//10\n",
    "B_100 = B//100\n",
    "C = A * B_1\n",
    "D = A * B_10\n",
    "E = A * B_100\n",
    "F = E*100 + D*10 + C\n",
    "print(C, D, E, F, sep = (\"\\n\"))"
   ]
  },
  {
   "cell_type": "code",
   "execution_count": 20,
   "id": "37e73262",
   "metadata": {},
   "outputs": [
    {
     "name": "stdout",
     "output_type": "stream",
     "text": [
      "77 77 7777\n",
      "7931\n"
     ]
    }
   ],
   "source": [
    "string = input()\n",
    "string_split = string.split(\" \")\n",
    "A = int(string_split[0])\n",
    "B = int(string_split[1])\n",
    "C = int(string_split[2])\n",
    "print(A+B+C)"
   ]
  },
  {
   "cell_type": "code",
   "execution_count": 36,
   "id": "cbb35d5d",
   "metadata": {},
   "outputs": [
    {
     "name": "stdout",
     "output_type": "stream",
     "text": [
      "\\    /\\\n",
      " )  ( ')\n",
      "(  /  )\n",
      " \\(__)|\n"
     ]
    }
   ],
   "source": [
    "print(\"\\\\    /\\\\\")\n",
    "print(\" )  ( \\')\")\n",
    "print(\"(  /  )\")\n",
    "print(\" \\\\(__)|\")\n"
   ]
  },
  {
   "cell_type": "code",
   "execution_count": 37,
   "id": "1274513c",
   "metadata": {},
   "outputs": [
    {
     "name": "stdout",
     "output_type": "stream",
     "text": [
      "|\\_/|\n",
      "|q p|   /}\n",
      "( 0 )\"\"\"\\\n",
      "|\"^\"`    |\n",
      "||_/=\\\\__|\n"
     ]
    }
   ],
   "source": [
    "print(\"|\\\\_/|\")\n",
    "print(\"|q p|   /}\")\n",
    "print(\"( 0 )\\\"\\\"\\\"\\\\\")\n",
    "print(\"|\\\"^\\\"`    |\")\n",
    "print(\"||_/=\\\\\\\\__|\")"
   ]
  },
  {
   "cell_type": "code",
   "execution_count": null,
   "id": "cb842b95",
   "metadata": {},
   "outputs": [],
   "source": []
  }
 ],
 "metadata": {
  "kernelspec": {
   "display_name": "Python 3 (ipykernel)",
   "language": "python",
   "name": "python3"
  },
  "language_info": {
   "codemirror_mode": {
    "name": "ipython",
    "version": 3
   },
   "file_extension": ".py",
   "mimetype": "text/x-python",
   "name": "python",
   "nbconvert_exporter": "python",
   "pygments_lexer": "ipython3",
   "version": "3.10.9"
  }
 },
 "nbformat": 4,
 "nbformat_minor": 5
}
